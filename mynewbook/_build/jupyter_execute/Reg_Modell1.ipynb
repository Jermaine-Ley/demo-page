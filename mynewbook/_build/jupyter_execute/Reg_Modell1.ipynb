{
 "cells": [
  {
   "cell_type": "markdown",
   "metadata": {},
   "source": [
    "# Regressionsmodell 1"
   ]
  },
  {
   "cell_type": "code",
   "execution_count": 1,
   "metadata": {},
   "outputs": [],
   "source": [
    "import numpy as np # linear algebra\n",
    "import pandas as pd # data processing, CSV file I/O (e.g. pd.read_csv)\n",
    "import os\n",
    "import matplotlib.pyplot as plt\n",
    "import seaborn as sns\n",
    "import numpy as np\n",
    "from sklearn import neighbors, datasets, svm, tree\n",
    "import warnings \n",
    "warnings.filterwarnings('ignore')"
   ]
  },
  {
   "cell_type": "code",
   "execution_count": 2,
   "metadata": {},
   "outputs": [
    {
     "name": "stderr",
     "output_type": "stream",
     "text": [
      "b'Skipping line 408163: expected 16 fields, saw 17\\nSkipping line 417837: expected 16 fields, saw 17\\nSkipping line 421291: expected 16 fields, saw 17\\nSkipping line 424163: expected 16 fields, saw 17\\n'\n",
      "b'Skipping line 427042: expected 16 fields, saw 17\\nSkipping line 427045: expected 16 fields, saw 17\\nSkipping line 434426: expected 16 fields, saw 17\\nSkipping line 444503: expected 16 fields, saw 17\\nSkipping line 453796: expected 16 fields, saw 17\\n'\n",
      "b'Skipping line 461599: expected 16 fields, saw 17\\nSkipping line 461614: expected 16 fields, saw 17\\n'\n",
      "b'Skipping line 492486: expected 16 fields, saw 17\\nSkipping line 497010: expected 16 fields, saw 17\\nSkipping line 497013: expected 16 fields, saw 17\\nSkipping line 499085: expected 16 fields, saw 17\\nSkipping line 501457: expected 16 fields, saw 17\\nSkipping line 505301: expected 16 fields, saw 17\\nSkipping line 505308: expected 16 fields, saw 17\\nSkipping line 520463: expected 16 fields, saw 17\\n'\n",
      "b'Skipping line 528998: expected 16 fields, saw 17\\nSkipping line 529011: expected 16 fields, saw 17\\nSkipping line 529015: expected 16 fields, saw 17\\nSkipping line 529624: expected 16 fields, saw 17\\nSkipping line 548786: expected 16 fields, saw 17\\nSkipping line 551224: expected 16 fields, saw 17\\nSkipping line 554712: expected 16 fields, saw 17\\n'\n"
     ]
    },
    {
     "name": "stdout",
     "output_type": "stream",
     "text": [
      "        year    make                model         trim       body  \\\n",
      "0       2015     Kia              Sorento           LX        SUV   \n",
      "1       2015     Kia              Sorento           LX        SUV   \n",
      "2       2014     BMW             3 Series   328i SULEV      Sedan   \n",
      "3       2015   Volvo                  S60           T5      Sedan   \n",
      "4       2014     BMW  6 Series Gran Coupe         650i      Sedan   \n",
      "...      ...     ...                  ...          ...        ...   \n",
      "558806  2015     Kia                 K900       Luxury      Sedan   \n",
      "558807  2012     Ram                 2500  Power Wagon   Crew Cab   \n",
      "558808  2012     BMW                   X5    xDrive35d        SUV   \n",
      "558809  2015  Nissan               Altima        2.5 S      sedan   \n",
      "558810  2014    Ford                F-150          XLT  SuperCrew   \n",
      "\n",
      "       transmission                vin state  condition  odometer   color  \\\n",
      "0         automatic  5xyktca69fg566472    ca        5.0   16639.0   white   \n",
      "1         automatic  5xyktca69fg561319    ca        5.0    9393.0   white   \n",
      "2         automatic  wba3c1c51ek116351    ca        4.5    1331.0    gray   \n",
      "3         automatic  yv1612tb4f1310987    ca        4.1   14282.0   white   \n",
      "4         automatic  wba6b2c57ed129731    ca        4.3    2641.0    gray   \n",
      "...             ...                ...   ...        ...       ...     ...   \n",
      "558806          NaN  knalw4d4xf6019304    in        4.5   18255.0  silver   \n",
      "558807    automatic  3c6td5et6cg112407    wa        5.0   54393.0   white   \n",
      "558808    automatic  5uxzw0c58cl668465    ca        4.8   50561.0   black   \n",
      "558809    automatic  1n4al3ap0fc216050    ga        3.8   16658.0   white   \n",
      "558810    automatic  1ftfw1et2eke87277    ca        3.4   15008.0    gray   \n",
      "\n",
      "       interior                                             seller    mmr  \\\n",
      "0         black                            kia motors america, inc  20500   \n",
      "1         beige                            kia motors america, inc  20800   \n",
      "2         black             financial services remarketing (lease)  31900   \n",
      "3         black                            volvo na rep/world omni  27500   \n",
      "4         black             financial services remarketing (lease)  66000   \n",
      "...         ...                                                ...    ...   \n",
      "558806    black                                   avis corporation  35300   \n",
      "558807    black                                    i -5 uhlmann rv  30200   \n",
      "558808    black             financial services remarketing (lease)  29800   \n",
      "558809    black  enterprise vehicle exchange / tra / rental / t...  15100   \n",
      "558810     gray                   ford motor credit company,llc pd  29600   \n",
      "\n",
      "        sellingprice                                 saledate  \n",
      "0              21500  Tue Dec 16 2014 12:30:00 GMT-0800 (PST)  \n",
      "1              21500  Tue Dec 16 2014 12:30:00 GMT-0800 (PST)  \n",
      "2              30000  Thu Jan 15 2015 04:30:00 GMT-0800 (PST)  \n",
      "3              27750  Thu Jan 29 2015 04:30:00 GMT-0800 (PST)  \n",
      "4              67000  Thu Dec 18 2014 12:30:00 GMT-0800 (PST)  \n",
      "...              ...                                      ...  \n",
      "558806         33000  Thu Jul 09 2015 07:00:00 GMT-0700 (PDT)  \n",
      "558807         30800  Wed Jul 08 2015 09:30:00 GMT-0700 (PDT)  \n",
      "558808         34000  Wed Jul 08 2015 09:30:00 GMT-0700 (PDT)  \n",
      "558809         11100  Thu Jul 09 2015 06:45:00 GMT-0700 (PDT)  \n",
      "558810         26700  Thu May 28 2015 05:30:00 GMT-0700 (PDT)  \n",
      "\n",
      "[558811 rows x 16 columns]\n"
     ]
    }
   ],
   "source": [
    "df = pd.read_csv('car_prices.csv',error_bad_lines=False,warn_bad_lines=True)\n",
    "print(df) # Ausgabe "
   ]
  },
  {
   "cell_type": "code",
   "execution_count": 3,
   "metadata": {},
   "outputs": [
    {
     "data": {
      "text/html": [
       "<div>\n",
       "<style scoped>\n",
       "    .dataframe tbody tr th:only-of-type {\n",
       "        vertical-align: middle;\n",
       "    }\n",
       "\n",
       "    .dataframe tbody tr th {\n",
       "        vertical-align: top;\n",
       "    }\n",
       "\n",
       "    .dataframe thead th {\n",
       "        text-align: right;\n",
       "    }\n",
       "</style>\n",
       "<table border=\"1\" class=\"dataframe\">\n",
       "  <thead>\n",
       "    <tr style=\"text-align: right;\">\n",
       "      <th></th>\n",
       "      <th>year</th>\n",
       "      <th>make</th>\n",
       "      <th>model</th>\n",
       "      <th>trim</th>\n",
       "      <th>body</th>\n",
       "      <th>transmission</th>\n",
       "      <th>vin</th>\n",
       "      <th>state</th>\n",
       "      <th>condition</th>\n",
       "      <th>odometer</th>\n",
       "      <th>color</th>\n",
       "      <th>interior</th>\n",
       "      <th>seller</th>\n",
       "      <th>mmr</th>\n",
       "      <th>sellingprice</th>\n",
       "      <th>saledate</th>\n",
       "    </tr>\n",
       "  </thead>\n",
       "  <tbody>\n",
       "    <tr>\n",
       "      <th>0</th>\n",
       "      <td>2015</td>\n",
       "      <td>Kia</td>\n",
       "      <td>Sorento</td>\n",
       "      <td>LX</td>\n",
       "      <td>SUV</td>\n",
       "      <td>automatic</td>\n",
       "      <td>5xyktca69fg566472</td>\n",
       "      <td>ca</td>\n",
       "      <td>5.0</td>\n",
       "      <td>16639.0</td>\n",
       "      <td>white</td>\n",
       "      <td>black</td>\n",
       "      <td>kia motors america, inc</td>\n",
       "      <td>20500</td>\n",
       "      <td>21500</td>\n",
       "      <td>Tue Dec 16 2014 12:30:00 GMT-0800 (PST)</td>\n",
       "    </tr>\n",
       "    <tr>\n",
       "      <th>1</th>\n",
       "      <td>2015</td>\n",
       "      <td>Kia</td>\n",
       "      <td>Sorento</td>\n",
       "      <td>LX</td>\n",
       "      <td>SUV</td>\n",
       "      <td>automatic</td>\n",
       "      <td>5xyktca69fg561319</td>\n",
       "      <td>ca</td>\n",
       "      <td>5.0</td>\n",
       "      <td>9393.0</td>\n",
       "      <td>white</td>\n",
       "      <td>beige</td>\n",
       "      <td>kia motors america, inc</td>\n",
       "      <td>20800</td>\n",
       "      <td>21500</td>\n",
       "      <td>Tue Dec 16 2014 12:30:00 GMT-0800 (PST)</td>\n",
       "    </tr>\n",
       "    <tr>\n",
       "      <th>2</th>\n",
       "      <td>2014</td>\n",
       "      <td>BMW</td>\n",
       "      <td>3 Series</td>\n",
       "      <td>328i SULEV</td>\n",
       "      <td>Sedan</td>\n",
       "      <td>automatic</td>\n",
       "      <td>wba3c1c51ek116351</td>\n",
       "      <td>ca</td>\n",
       "      <td>4.5</td>\n",
       "      <td>1331.0</td>\n",
       "      <td>gray</td>\n",
       "      <td>black</td>\n",
       "      <td>financial services remarketing (lease)</td>\n",
       "      <td>31900</td>\n",
       "      <td>30000</td>\n",
       "      <td>Thu Jan 15 2015 04:30:00 GMT-0800 (PST)</td>\n",
       "    </tr>\n",
       "    <tr>\n",
       "      <th>3</th>\n",
       "      <td>2015</td>\n",
       "      <td>Volvo</td>\n",
       "      <td>S60</td>\n",
       "      <td>T5</td>\n",
       "      <td>Sedan</td>\n",
       "      <td>automatic</td>\n",
       "      <td>yv1612tb4f1310987</td>\n",
       "      <td>ca</td>\n",
       "      <td>4.1</td>\n",
       "      <td>14282.0</td>\n",
       "      <td>white</td>\n",
       "      <td>black</td>\n",
       "      <td>volvo na rep/world omni</td>\n",
       "      <td>27500</td>\n",
       "      <td>27750</td>\n",
       "      <td>Thu Jan 29 2015 04:30:00 GMT-0800 (PST)</td>\n",
       "    </tr>\n",
       "    <tr>\n",
       "      <th>4</th>\n",
       "      <td>2014</td>\n",
       "      <td>BMW</td>\n",
       "      <td>6 Series Gran Coupe</td>\n",
       "      <td>650i</td>\n",
       "      <td>Sedan</td>\n",
       "      <td>automatic</td>\n",
       "      <td>wba6b2c57ed129731</td>\n",
       "      <td>ca</td>\n",
       "      <td>4.3</td>\n",
       "      <td>2641.0</td>\n",
       "      <td>gray</td>\n",
       "      <td>black</td>\n",
       "      <td>financial services remarketing (lease)</td>\n",
       "      <td>66000</td>\n",
       "      <td>67000</td>\n",
       "      <td>Thu Dec 18 2014 12:30:00 GMT-0800 (PST)</td>\n",
       "    </tr>\n",
       "  </tbody>\n",
       "</table>\n",
       "</div>"
      ],
      "text/plain": [
       "   year   make                model        trim   body transmission  \\\n",
       "0  2015    Kia              Sorento          LX    SUV    automatic   \n",
       "1  2015    Kia              Sorento          LX    SUV    automatic   \n",
       "2  2014    BMW             3 Series  328i SULEV  Sedan    automatic   \n",
       "3  2015  Volvo                  S60          T5  Sedan    automatic   \n",
       "4  2014    BMW  6 Series Gran Coupe        650i  Sedan    automatic   \n",
       "\n",
       "                 vin state  condition  odometer  color interior  \\\n",
       "0  5xyktca69fg566472    ca        5.0   16639.0  white    black   \n",
       "1  5xyktca69fg561319    ca        5.0    9393.0  white    beige   \n",
       "2  wba3c1c51ek116351    ca        4.5    1331.0   gray    black   \n",
       "3  yv1612tb4f1310987    ca        4.1   14282.0  white    black   \n",
       "4  wba6b2c57ed129731    ca        4.3    2641.0   gray    black   \n",
       "\n",
       "                                   seller    mmr  sellingprice  \\\n",
       "0                 kia motors america, inc  20500         21500   \n",
       "1                 kia motors america, inc  20800         21500   \n",
       "2  financial services remarketing (lease)  31900         30000   \n",
       "3                 volvo na rep/world omni  27500         27750   \n",
       "4  financial services remarketing (lease)  66000         67000   \n",
       "\n",
       "                                  saledate  \n",
       "0  Tue Dec 16 2014 12:30:00 GMT-0800 (PST)  \n",
       "1  Tue Dec 16 2014 12:30:00 GMT-0800 (PST)  \n",
       "2  Thu Jan 15 2015 04:30:00 GMT-0800 (PST)  \n",
       "3  Thu Jan 29 2015 04:30:00 GMT-0800 (PST)  \n",
       "4  Thu Dec 18 2014 12:30:00 GMT-0800 (PST)  "
      ]
     },
     "execution_count": 3,
     "metadata": {},
     "output_type": "execute_result"
    }
   ],
   "source": [
    "        #Die Funktion head() wird verwendet, um die ersten n Zeilen zu erhalten.\n",
    "        #Diese Funktion gibt die ersten n Zeilen des Objekts auf der Grundlage der Position zurück. Sie ist nützlich, um schnell zu testen, ob das Objekt die richtige Art von Daten enthält.\n",
    "df.head()"
   ]
  },
  {
   "cell_type": "code",
   "execution_count": 4,
   "metadata": {},
   "outputs": [
    {
     "data": {
      "text/plain": [
       "(558811, 16)"
      ]
     },
     "execution_count": 4,
     "metadata": {},
     "output_type": "execute_result"
    }
   ],
   "source": [
    "#Das shape-Attribut von pandas.DataFrame speichert die Anzahl der Zeilen und Spalten als Tupel \n",
    "df.shape "
   ]
  },
  {
   "cell_type": "code",
   "execution_count": 5,
   "metadata": {},
   "outputs": [
    {
     "name": "stdout",
     "output_type": "stream",
     "text": [
      "<class 'pandas.core.frame.DataFrame'>\n",
      "RangeIndex: 558811 entries, 0 to 558810\n",
      "Data columns (total 16 columns):\n",
      " #   Column        Non-Null Count   Dtype  \n",
      "---  ------        --------------   -----  \n",
      " 0   year          558811 non-null  int64  \n",
      " 1   make          548510 non-null  object \n",
      " 2   model         548412 non-null  object \n",
      " 3   trim          548160 non-null  object \n",
      " 4   body          545616 non-null  object \n",
      " 5   transmission  493458 non-null  object \n",
      " 6   vin           558811 non-null  object \n",
      " 7   state         558811 non-null  object \n",
      " 8   condition     547017 non-null  float64\n",
      " 9   odometer      558717 non-null  float64\n",
      " 10  color         558062 non-null  object \n",
      " 11  interior      558062 non-null  object \n",
      " 12  seller        558811 non-null  object \n",
      " 13  mmr           558811 non-null  int64  \n",
      " 14  sellingprice  558811 non-null  int64  \n",
      " 15  saledate      558811 non-null  object \n",
      "dtypes: float64(2), int64(3), object(11)\n",
      "memory usage: 68.2+ MB\n"
     ]
    }
   ],
   "source": [
    "#Die Methode info() von pandas.DataFrame kann Informationen wie die Anzahl der Zeilen und Spalten, \n",
    "#den gesamten Speicherverbrauch, den Datentyp jeder Spalte und die Anzahl der Nicht-NaN-Elemente anzeigen.\n",
    "\n",
    "df.info()"
   ]
  },
  {
   "cell_type": "code",
   "execution_count": 6,
   "metadata": {},
   "outputs": [
    {
     "data": {
      "text/plain": [
       "transmission    65353\n",
       "body            13195\n",
       "condition       11794\n",
       "trim            10651\n",
       "model           10399\n",
       "make            10301\n",
       "color             749\n",
       "interior          749\n",
       "odometer           94\n",
       "year                0\n",
       "vin                 0\n",
       "state               0\n",
       "seller              0\n",
       "mmr                 0\n",
       "sellingprice        0\n",
       "saledate            0\n",
       "dtype: int64"
      ]
     },
     "execution_count": 6,
     "metadata": {},
     "output_type": "execute_result"
    }
   ],
   "source": [
    "#Fehlende Werte erkennen. Gibt ein boolesches Objekt zurück, das angibt, ob die Werte NA sind \n",
    "df.isna().sum().sort_values(ascending=False)"
   ]
  },
  {
   "cell_type": "code",
   "execution_count": 7,
   "metadata": {},
   "outputs": [],
   "source": [
    "#Ab diesen Abschnitt werden die fehlenden Werte je nach Datentyp der Spalte. \n",
    "# \\ Kategorische Spalten -> Modus \\ Kontinuierliche Spalten -> Mittelwert/Median \\ Diskrete Spalten -> Modus\n",
    "\n",
    "\n",
    "categorical_columns = []\n",
    "continous_columns = []\n",
    "discrete_columns = []\n",
    "\n",
    "for x in df.columns:\n",
    "  if df[x].dtypes == 'O':\n",
    "    categorical_columns.append(x)\n",
    "  else:\n",
    "    if df[x].nunique()>20:\n",
    "      continous_columns.append(x)\n",
    "    else:\n",
    "      discrete_columns.append(x)"
   ]
  },
  {
   "cell_type": "code",
   "execution_count": 8,
   "metadata": {},
   "outputs": [
    {
     "data": {
      "text/plain": [
       "['make',\n",
       " 'model',\n",
       " 'trim',\n",
       " 'body',\n",
       " 'transmission',\n",
       " 'vin',\n",
       " 'state',\n",
       " 'color',\n",
       " 'interior',\n",
       " 'seller',\n",
       " 'saledate']"
      ]
     },
     "execution_count": 8,
     "metadata": {},
     "output_type": "execute_result"
    }
   ],
   "source": [
    "categorical_columns"
   ]
  },
  {
   "cell_type": "code",
   "execution_count": 9,
   "metadata": {},
   "outputs": [
    {
     "data": {
      "text/plain": [
       "['year', 'condition', 'odometer', 'mmr', 'sellingprice']"
      ]
     },
     "execution_count": 9,
     "metadata": {},
     "output_type": "execute_result"
    }
   ],
   "source": [
    "continous_columns"
   ]
  },
  {
   "cell_type": "code",
   "execution_count": 10,
   "metadata": {},
   "outputs": [
    {
     "data": {
      "text/plain": [
       "[]"
      ]
     },
     "execution_count": 10,
     "metadata": {},
     "output_type": "execute_result"
    }
   ],
   "source": [
    "discrete_columns"
   ]
  },
  {
   "cell_type": "code",
   "execution_count": 11,
   "metadata": {},
   "outputs": [],
   "source": [
    "#Füllen von fehlenden Werten kontinuierlicher Spalten mit dem Median\n",
    "for x in continous_columns:\n",
    "  df[x].fillna(df[x].median(),inplace=True)"
   ]
  },
  {
   "cell_type": "code",
   "execution_count": 12,
   "metadata": {},
   "outputs": [],
   "source": [
    "#Füllen fehlender Werte kategorischer Spalten mit Modus\n",
    "for x in categorical_columns:\n",
    "  df[x].fillna(df[x].mode()[0],inplace=True)"
   ]
  },
  {
   "cell_type": "code",
   "execution_count": 13,
   "metadata": {},
   "outputs": [
    {
     "data": {
      "text/plain": [
       "year            0\n",
       "make            0\n",
       "model           0\n",
       "trim            0\n",
       "body            0\n",
       "transmission    0\n",
       "vin             0\n",
       "state           0\n",
       "condition       0\n",
       "odometer        0\n",
       "color           0\n",
       "interior        0\n",
       "seller          0\n",
       "mmr             0\n",
       "sellingprice    0\n",
       "saledate        0\n",
       "dtype: int64"
      ]
     },
     "execution_count": 13,
     "metadata": {},
     "output_type": "execute_result"
    }
   ],
   "source": [
    "df.isna().sum().sort_values(ascending=False)"
   ]
  },
  {
   "cell_type": "code",
   "execution_count": 14,
   "metadata": {},
   "outputs": [],
   "source": [
    "#Wir haben keine Missing Values mehr, somit ist die Datei sauber und wir können beginnen."
   ]
  },
  {
   "cell_type": "code",
   "execution_count": 15,
   "metadata": {},
   "outputs": [
    {
     "data": {
      "image/png": "[encoded data removed]",
      "text/plain": [
       "<Figure size 1008x576 with 6 Axes>"
      ]
     },
     "metadata": {
      "filenames": {
       "image/png": "C:\\Users\\Jerma\\Documents\\GitHub\\demo-page\\mynewbook\\_build\\jupyter_execute\\Reg_Modell1_15_0.png"
      },
      "needs_background": "light"
     },
     "output_type": "display_data"
    }
   ],
   "source": [
    "#Mit einem Boxplot werden die Ausreißer überprüft.\n",
    "df[continous_columns].plot(kind='box',subplots=True,layout=(2,3),figsize=(14,8))\n",
    "plt.show()"
   ]
  },
  {
   "cell_type": "code",
   "execution_count": 16,
   "metadata": {},
   "outputs": [],
   "source": [
    "# Funktion zur Rückgabe des Index für die Spalte, deren Datenpunkte größer als die angegebene Grenze sind\n",
    "def outs(col,limit):\n",
    "    index = []\n",
    "    index = df[df[col]>limit].index\n",
    "\n",
    "    return index"
   ]
  },
  {
   "cell_type": "code",
   "execution_count": 17,
   "metadata": {},
   "outputs": [
    {
     "data": {
      "text/plain": [
       "Int64Index([   275,   4626,  13317,  13480,  13568,  20838,  38465,  39178,\n",
       "             40121,  55492,  57588,  58330,  59320,  61824,  70798,  76882,\n",
       "             81661,  83882,  84086,  96234, 103031, 117926, 117972, 118104,\n",
       "            135334, 136242, 163868, 166054, 168800, 179448, 191690, 194973,\n",
       "            240950, 245595, 260722, 260729, 275351, 279980, 290236, 321671,\n",
       "            321728, 321779, 323274, 338793, 347888, 354485, 361178, 367686,\n",
       "            373462, 385365, 385721, 398167, 404788, 406428, 409935, 416793,\n",
       "            417515, 418605, 451991, 452007, 452254, 452267, 456527, 462004,\n",
       "            462289, 476582, 477244, 485257, 485594, 489822, 490450, 501462,\n",
       "            513201, 541011],\n",
       "           dtype='int64')"
      ]
     },
     "execution_count": 17,
     "metadata": {},
     "output_type": "execute_result"
    }
   ],
   "source": [
    "# Dieser Index hat Datenpunkte, die sehr weit von der Gruppe der Datenpunkte entfernt sind.\n",
    "# Ersetzt werden diese Punkte durch Werte in der Nähe des Clusters\n",
    "ind = outs('odometer',900000)\n",
    "ind"
   ]
  },
  {
   "cell_type": "code",
   "execution_count": 18,
   "metadata": {},
   "outputs": [
    {
     "data": {
      "text/plain": [
       "226662.4"
      ]
     },
     "execution_count": 18,
     "metadata": {},
     "output_type": "execute_result"
    }
   ],
   "source": [
    "value = round(np.percentile(df.odometer,99),1)\n",
    "value"
   ]
  },
  {
   "cell_type": "code",
   "execution_count": 19,
   "metadata": {},
   "outputs": [],
   "source": [
    "df.loc[ind,'mmr'] = value"
   ]
  },
  {
   "cell_type": "code",
   "execution_count": 20,
   "metadata": {},
   "outputs": [
    {
     "data": {
      "text/plain": [
       "Int64Index([  1102,   5646,   5676,   5842,   5960,   6459,   6501,   6732,\n",
       "              6748,  12948,\n",
       "            ...\n",
       "            553158, 553594, 555815, 556494, 556797, 557544, 557821, 557822,\n",
       "            557931, 558790],\n",
       "           dtype='int64', length=166)"
      ]
     },
     "execution_count": 20,
     "metadata": {},
     "output_type": "execute_result"
    }
   ],
   "source": [
    "# Dieser Index hat Datenpunkte, die sehr weit von der Gruppe der Datenpunkte entfernt sind.\n",
    "# Es wurden Punkte ersetzt durch Werte die in der Nähe des Clusters sind.\n",
    "ind = outs('sellingprice',100000)\n",
    "ind"
   ]
  },
  {
   "cell_type": "code",
   "execution_count": 21,
   "metadata": {},
   "outputs": [
    {
     "data": {
      "text/plain": [
       "44900.0"
      ]
     },
     "execution_count": 21,
     "metadata": {},
     "output_type": "execute_result"
    }
   ],
   "source": [
    "value = round(np.percentile(df.sellingprice,99),1)\n",
    "value"
   ]
  },
  {
   "cell_type": "code",
   "execution_count": 22,
   "metadata": {},
   "outputs": [],
   "source": [
    "df.loc[ind,'sellingprice'] = value"
   ]
  },
  {
   "cell_type": "code",
   "execution_count": 23,
   "metadata": {},
   "outputs": [],
   "source": [
    "# Die Außreiser sind damit abgeschlossen\n",
    "# Label-Kodierung\n"
   ]
  },
  {
   "cell_type": "code",
   "execution_count": 24,
   "metadata": {},
   "outputs": [
    {
     "data": {
      "text/plain": [
       "['make',\n",
       " 'model',\n",
       " 'trim',\n",
       " 'body',\n",
       " 'transmission',\n",
       " 'vin',\n",
       " 'state',\n",
       " 'color',\n",
       " 'interior',\n",
       " 'seller',\n",
       " 'saledate']"
      ]
     },
     "execution_count": 24,
     "metadata": {},
     "output_type": "execute_result"
    }
   ],
   "source": [
    "categorical_columns"
   ]
  },
  {
   "cell_type": "code",
   "execution_count": 25,
   "metadata": {},
   "outputs": [],
   "source": [
    "from sklearn.preprocessing import LabelEncoder\n",
    "le = LabelEncoder()\n",
    "for x in categorical_columns:\n",
    "  df[x] = le.fit_transform(df[x])"
   ]
  },
  {
   "cell_type": "code",
   "execution_count": 26,
   "metadata": {},
   "outputs": [],
   "source": [
    "#Feature Selection\n",
    "X = df.copy()"
   ]
  },
  {
   "cell_type": "code",
   "execution_count": 27,
   "metadata": {},
   "outputs": [],
   "source": [
    "X.drop('sellingprice',inplace=True,axis=1)"
   ]
  },
  {
   "cell_type": "code",
   "execution_count": 28,
   "metadata": {},
   "outputs": [],
   "source": [
    "Y = df.sellingprice"
   ]
  },
  {
   "cell_type": "code",
   "execution_count": 29,
   "metadata": {},
   "outputs": [
    {
     "data": {
      "text/plain": [
       "ExtraTreesRegressor()"
      ]
     },
     "execution_count": 29,
     "metadata": {},
     "output_type": "execute_result"
    }
   ],
   "source": [
    "from sklearn.ensemble import ExtraTreesRegressor\n",
    "et = ExtraTreesRegressor()\n",
    "et.fit(X,Y)"
   ]
  },
  {
   "cell_type": "code",
   "execution_count": 30,
   "metadata": {},
   "outputs": [
    {
     "data": {
      "text/plain": [
       "<zip at 0x1eec1a621c0>"
      ]
     },
     "execution_count": 30,
     "metadata": {},
     "output_type": "execute_result"
    }
   ],
   "source": [
    "zip(et.feature_importances_,X.columns)"
   ]
  },
  {
   "cell_type": "code",
   "execution_count": 31,
   "metadata": {},
   "outputs": [],
   "source": [
    "imp_col = pd.DataFrame(zip(et.feature_importances_,X.columns),columns=['Importance','Columns'])"
   ]
  },
  {
   "cell_type": "code",
   "execution_count": 32,
   "metadata": {},
   "outputs": [
    {
     "data": {
      "text/html": [
       "<div>\n",
       "<style scoped>\n",
       "    .dataframe tbody tr th:only-of-type {\n",
       "        vertical-align: middle;\n",
       "    }\n",
       "\n",
       "    .dataframe tbody tr th {\n",
       "        vertical-align: top;\n",
       "    }\n",
       "\n",
       "    .dataframe thead th {\n",
       "        text-align: right;\n",
       "    }\n",
       "</style>\n",
       "<table border=\"1\" class=\"dataframe\">\n",
       "  <thead>\n",
       "    <tr style=\"text-align: right;\">\n",
       "      <th></th>\n",
       "      <th>Importance</th>\n",
       "      <th>Columns</th>\n",
       "    </tr>\n",
       "  </thead>\n",
       "  <tbody>\n",
       "    <tr>\n",
       "      <th>13</th>\n",
       "      <td>0.654003</td>\n",
       "      <td>mmr</td>\n",
       "    </tr>\n",
       "    <tr>\n",
       "      <th>0</th>\n",
       "      <td>0.126740</td>\n",
       "      <td>year</td>\n",
       "    </tr>\n",
       "    <tr>\n",
       "      <th>8</th>\n",
       "      <td>0.107018</td>\n",
       "      <td>condition</td>\n",
       "    </tr>\n",
       "    <tr>\n",
       "      <th>9</th>\n",
       "      <td>0.071190</td>\n",
       "      <td>odometer</td>\n",
       "    </tr>\n",
       "    <tr>\n",
       "      <th>6</th>\n",
       "      <td>0.012833</td>\n",
       "      <td>vin</td>\n",
       "    </tr>\n",
       "  </tbody>\n",
       "</table>\n",
       "</div>"
      ],
      "text/plain": [
       "    Importance    Columns\n",
       "13    0.654003        mmr\n",
       "0     0.126740       year\n",
       "8     0.107018  condition\n",
       "9     0.071190   odometer\n",
       "6     0.012833        vin"
      ]
     },
     "execution_count": 32,
     "metadata": {},
     "output_type": "execute_result"
    }
   ],
   "source": [
    "imp_col.sort_values(by='Importance',ascending=False).head()"
   ]
  },
  {
   "cell_type": "code",
   "execution_count": 33,
   "metadata": {},
   "outputs": [],
   "source": [
    "#Auswahl der ersten 5 Spalten\n",
    "X = X[['mmr','year','condition','odometer','vin']]"
   ]
  },
  {
   "cell_type": "code",
   "execution_count": 34,
   "metadata": {},
   "outputs": [
    {
     "data": {
      "text/html": [
       "<div>\n",
       "<style scoped>\n",
       "    .dataframe tbody tr th:only-of-type {\n",
       "        vertical-align: middle;\n",
       "    }\n",
       "\n",
       "    .dataframe tbody tr th {\n",
       "        vertical-align: top;\n",
       "    }\n",
       "\n",
       "    .dataframe thead th {\n",
       "        text-align: right;\n",
       "    }\n",
       "</style>\n",
       "<table border=\"1\" class=\"dataframe\">\n",
       "  <thead>\n",
       "    <tr style=\"text-align: right;\">\n",
       "      <th></th>\n",
       "      <th>mmr</th>\n",
       "      <th>year</th>\n",
       "      <th>condition</th>\n",
       "      <th>odometer</th>\n",
       "      <th>vin</th>\n",
       "    </tr>\n",
       "  </thead>\n",
       "  <tbody>\n",
       "    <tr>\n",
       "      <th>0</th>\n",
       "      <td>20500.0</td>\n",
       "      <td>2015</td>\n",
       "      <td>5.0</td>\n",
       "      <td>16639.0</td>\n",
       "      <td>403800</td>\n",
       "    </tr>\n",
       "    <tr>\n",
       "      <th>1</th>\n",
       "      <td>20800.0</td>\n",
       "      <td>2015</td>\n",
       "      <td>5.0</td>\n",
       "      <td>9393.0</td>\n",
       "      <td>403792</td>\n",
       "    </tr>\n",
       "    <tr>\n",
       "      <th>2</th>\n",
       "      <td>31900.0</td>\n",
       "      <td>2014</td>\n",
       "      <td>4.5</td>\n",
       "      <td>1331.0</td>\n",
       "      <td>507007</td>\n",
       "    </tr>\n",
       "    <tr>\n",
       "      <th>3</th>\n",
       "      <td>27500.0</td>\n",
       "      <td>2015</td>\n",
       "      <td>4.1</td>\n",
       "      <td>14282.0</td>\n",
       "      <td>546650</td>\n",
       "    </tr>\n",
       "    <tr>\n",
       "      <th>4</th>\n",
       "      <td>66000.0</td>\n",
       "      <td>2014</td>\n",
       "      <td>4.3</td>\n",
       "      <td>2641.0</td>\n",
       "      <td>508040</td>\n",
       "    </tr>\n",
       "    <tr>\n",
       "      <th>...</th>\n",
       "      <td>...</td>\n",
       "      <td>...</td>\n",
       "      <td>...</td>\n",
       "      <td>...</td>\n",
       "      <td>...</td>\n",
       "    </tr>\n",
       "    <tr>\n",
       "      <th>558806</th>\n",
       "      <td>35300.0</td>\n",
       "      <td>2015</td>\n",
       "      <td>4.5</td>\n",
       "      <td>18255.0</td>\n",
       "      <td>488919</td>\n",
       "    </tr>\n",
       "    <tr>\n",
       "      <th>558807</th>\n",
       "      <td>30200.0</td>\n",
       "      <td>2012</td>\n",
       "      <td>5.0</td>\n",
       "      <td>54393.0</td>\n",
       "      <td>289636</td>\n",
       "    </tr>\n",
       "    <tr>\n",
       "      <th>558808</th>\n",
       "      <td>29800.0</td>\n",
       "      <td>2012</td>\n",
       "      <td>4.8</td>\n",
       "      <td>50561.0</td>\n",
       "      <td>398254</td>\n",
       "    </tr>\n",
       "    <tr>\n",
       "      <th>558809</th>\n",
       "      <td>15100.0</td>\n",
       "      <td>2015</td>\n",
       "      <td>3.8</td>\n",
       "      <td>16658.0</td>\n",
       "      <td>192494</td>\n",
       "    </tr>\n",
       "    <tr>\n",
       "      <th>558810</th>\n",
       "      <td>29600.0</td>\n",
       "      <td>2014</td>\n",
       "      <td>3.4</td>\n",
       "      <td>15008.0</td>\n",
       "      <td>82906</td>\n",
       "    </tr>\n",
       "  </tbody>\n",
       "</table>\n",
       "<p>558811 rows × 5 columns</p>\n",
       "</div>"
      ],
      "text/plain": [
       "            mmr  year  condition  odometer     vin\n",
       "0       20500.0  2015        5.0   16639.0  403800\n",
       "1       20800.0  2015        5.0    9393.0  403792\n",
       "2       31900.0  2014        4.5    1331.0  507007\n",
       "3       27500.0  2015        4.1   14282.0  546650\n",
       "4       66000.0  2014        4.3    2641.0  508040\n",
       "...         ...   ...        ...       ...     ...\n",
       "558806  35300.0  2015        4.5   18255.0  488919\n",
       "558807  30200.0  2012        5.0   54393.0  289636\n",
       "558808  29800.0  2012        4.8   50561.0  398254\n",
       "558809  15100.0  2015        3.8   16658.0  192494\n",
       "558810  29600.0  2014        3.4   15008.0   82906\n",
       "\n",
       "[558811 rows x 5 columns]"
      ]
     },
     "execution_count": 34,
     "metadata": {},
     "output_type": "execute_result"
    }
   ],
   "source": [
    "X"
   ]
  },
  {
   "cell_type": "code",
   "execution_count": 35,
   "metadata": {},
   "outputs": [],
   "source": [
    "#Modelbau und Splittung un Trainings-und Testdaten\n",
    "from sklearn.model_selection import train_test_split\n",
    "X_train, X_test, Y_train, Y_test = train_test_split(X, Y, test_size=0.3, \n",
    "random_state=10)"
   ]
  },
  {
   "cell_type": "code",
   "execution_count": 36,
   "metadata": {},
   "outputs": [],
   "source": [
    "#Lineare Regression\n",
    "from sklearn.linear_model import LinearRegression\n",
    "lr=LinearRegression()\n",
    "lr.fit(X_train, Y_train)\n",
    "Y_pred=lr.predict(X_test)"
   ]
  },
  {
   "cell_type": "code",
   "execution_count": 37,
   "metadata": {},
   "outputs": [
    {
     "name": "stdout",
     "output_type": "stream",
     "text": [
      "Score -> 0.9157776532090882\n",
      "MAE -> 1454.4627408015326\n",
      "MSE -> 7758185.352467652\n",
      "RMSE -> 2785.351926142844\n",
      "Adjusted R2 -> 0.9157768996157346\n"
     ]
    }
   ],
   "source": [
    "# Evaluation\n",
    "from sklearn.metrics import r2_score,mean_squared_error,mean_absolute_error\n",
    "import numpy as np\n",
    "\n",
    "lracc = r2_score(Y_test,Y_pred)\n",
    "print('Score ->',lracc)\n",
    "\n",
    "lrmae = mean_absolute_error(Y_test,Y_pred)\n",
    "print('MAE ->',lrmae)\n",
    "\n",
    "lrmse = mean_squared_error(Y_test,Y_pred)\n",
    "print('MSE ->',lrmse)\n",
    "\n",
    "lrrmse = np.sqrt(mean_squared_error(Y_test,Y_pred))\n",
    "print('RMSE ->',lrrmse)\n",
    "\n",
    "adjusted_r_squared = 1 - (1-lracc)*(len(Y)-1)/(len(Y)-X.shape[1]-1) \n",
    "print('Adjusted R2 ->',adjusted_r_squared)"
   ]
  },
  {
   "cell_type": "code",
   "execution_count": 38,
   "metadata": {},
   "outputs": [
    {
     "data": {
      "text/plain": [
       "<AxesSubplot:xlabel='sellingprice'>"
      ]
     },
     "execution_count": 38,
     "metadata": {},
     "output_type": "execute_result"
    },
    {
     "data": {
      "image/png": "[encoded data removed]",
      "text/plain": [
       "<Figure size 432x288 with 1 Axes>"
      ]
     },
     "metadata": {
      "filenames": {
       "image/png": "C:\\Users\\Jerma\\Documents\\GitHub\\demo-page\\mynewbook\\_build\\jupyter_execute\\Reg_Modell1_38_1.png"
      },
      "needs_background": "light"
     },
     "output_type": "display_data"
    }
   ],
   "source": [
    "#Streudiagramm der tatsächlichen Werte gegenüber den vorhergesagten Werten\n",
    "sns.scatterplot(x=Y_test,y=Y_pred)"
   ]
  },
  {
   "cell_type": "code",
   "execution_count": 39,
   "metadata": {},
   "outputs": [
    {
     "data": {
      "text/plain": [
       "<AxesSubplot:xlabel='sellingprice', ylabel='Density'>"
      ]
     },
     "execution_count": 39,
     "metadata": {},
     "output_type": "execute_result"
    },
    {
     "data": {
      "image/png": "[encoded data removed]",
      "text/plain": [
       "<Figure size 432x288 with 1 Axes>"
      ]
     },
     "metadata": {
      "filenames": {
       "image/png": "C:\\Users\\Jerma\\Documents\\GitHub\\demo-page\\mynewbook\\_build\\jupyter_execute\\Reg_Modell1_39_1.png"
      },
      "needs_background": "light"
     },
     "output_type": "display_data"
    }
   ],
   "source": [
    "sns.distplot(Y_test-Y_pred)"
   ]
  }
 ],
 "metadata": {
  "interpreter": {
   "hash": "c59d19f00193f2faebd1965e339288c86326293cc9051b701718804fd37abb29"
  },
  "kernelspec": {
   "display_name": "Python 3.8.12 ('tf')",
   "language": "python",
   "name": "python3"
  },
  "language_info": {
   "codemirror_mode": {
    "name": "ipython",
    "version": 3
   },
   "file_extension": ".py",
   "mimetype": "text/x-python",
   "name": "python",
   "nbconvert_exporter": "python",
   "pygments_lexer": "ipython3",
   "version": "3.8.12"
  }
 },
 "nbformat": 4,
 "nbformat_minor": 2
}